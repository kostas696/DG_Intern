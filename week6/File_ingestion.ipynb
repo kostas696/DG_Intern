{
  "cells": [
    {
      "cell_type": "code",
      "source": [
        "!pip install --q opendatasets\n",
        "!pip install \"modin[all]\"\n",
        "!pip install -U \"ray[default]\""
      ],
      "metadata": {
        "id": "Kcr7UmKKQ8Ow"
      },
      "execution_count": null,
      "outputs": []
    },
    {
      "cell_type": "code",
      "execution_count": 5,
      "metadata": {
        "id": "9GFRXggBQuPk"
      },
      "outputs": [],
      "source": [
        "import modin.pandas as mpd\n",
        "import pandas as pd\n",
        "import numpy as np\n",
        "import os\n",
        "import time\n",
        "import dask.dataframe as dd\n",
        "import ray\n",
        "import seaborn as sns\n",
        "import matplotlib.pyplot as plt\n",
        "import yaml\n",
        "import opendatasets as od\n",
        "import csv\n",
        "\n",
        "import warnings\n",
        "warnings.filterwarnings(\"ignore\")"
      ]
    },
    {
      "cell_type": "code",
      "source": [
        "# Import our dataset straight from kaggle\n",
        "od.download('https://www.kaggle.com/datasets/michaelmcray/divvy-cyclist-04-20-to-04-21/download?datasetVersionNumber=1')"
      ],
      "metadata": {
        "colab": {
          "base_uri": "https://localhost:8080/"
        },
        "id": "oWmGiJ-VRAtI",
        "outputId": "594e3949-c241-48e1-8502-bbb15dda4120"
      },
      "execution_count": 3,
      "outputs": [
        {
          "output_type": "stream",
          "name": "stdout",
          "text": [
            "Please provide your Kaggle credentials to download this dataset. Learn more: http://bit.ly/kaggle-creds\n",
            "Your Kaggle username: kostas696\n",
            "Your Kaggle Key: ··········\n",
            "Downloading divvy-cyclist-04-20-to-04-21.zip to ./divvy-cyclist-04-20-to-04-21\n"
          ]
        },
        {
          "output_type": "stream",
          "name": "stderr",
          "text": [
            "100%|██████████| 157M/157M [00:02<00:00, 65.4MB/s]\n"
          ]
        },
        {
          "output_type": "stream",
          "name": "stdout",
          "text": [
            "\n"
          ]
        }
      ]
    },
    {
      "cell_type": "markdown",
      "source": [
        "## 1. Read the CSV file using Pandas"
      ],
      "metadata": {
        "id": "GTxmRGpwlWBl"
      }
    },
    {
      "cell_type": "code",
      "execution_count": 11,
      "metadata": {
        "colab": {
          "base_uri": "https://localhost:8080/"
        },
        "id": "zwvKqvXiQuPt",
        "outputId": "67e693d5-8a5c-4547-c1a0-ad53255b4a56"
      },
      "outputs": [
        {
          "output_type": "stream",
          "name": "stdout",
          "text": [
            "Time taken by Pandas: 28.06 seconds\n"
          ]
        }
      ],
      "source": [
        "# Start time for Pandas\n",
        "start_pandas = time.time()\n",
        "\n",
        "# Read the CSV file using Pandas\n",
        "df = pd.read_csv('/content/divvy-cyclist-04-20-to-04-21/Divvy_Cyclist.csv', low_memory=False)\n",
        "\n",
        "# End time for Pandas\n",
        "end_pandas = time.time()\n",
        "time_pandas = end_pandas - start_pandas\n",
        "print(\"Time taken by Pandas:\", round(time_pandas, 2), \"seconds\")"
      ]
    },
    {
      "cell_type": "code",
      "source": [
        "df.head()"
      ],
      "metadata": {
        "colab": {
          "base_uri": "https://localhost:8080/",
          "height": 380
        },
        "id": "LPCxQ7FCtFEH",
        "outputId": "33a0402f-ccb8-43d8-d0a1-04b646d0c552"
      },
      "execution_count": 27,
      "outputs": [
        {
          "output_type": "execute_result",
          "data": {
            "text/plain": [
              "            ride_id rideable_type           started_at             ended_at  \\\n",
              "0  A847FADBBC638E45   docked_bike  2020-04-26 17:45:14  2020-04-26 18:12:03   \n",
              "1  5405B80E996FF60D   docked_bike  2020-04-17 17:08:54  2020-04-17 17:17:03   \n",
              "2  5DD24A79A4E006F4   docked_bike  2020-04-01 17:54:13  2020-04-01 18:08:36   \n",
              "3  2A59BBDF5CDBA725   docked_bike  2020-04-07 12:50:19  2020-04-07 13:02:31   \n",
              "4  27AD306C119C6158   docked_bike  2020-04-18 10:22:59  2020-04-18 11:15:54   \n",
              "\n",
              "             start_station_name start_station_id             end_station_name  \\\n",
              "0                  Eckhart Park               86  Lincoln Ave & Diversey Pkwy   \n",
              "1     Drake Ave & Fullerton Ave              503              Kosciuszko Park   \n",
              "2          McClurg Ct & Erie St              142   Indiana Ave & Roosevelt Rd   \n",
              "3  California Ave & Division St              216       Wood St & Augusta Blvd   \n",
              "4          Rush St & Hubbard St              125   Sheridan Rd & Lawrence Ave   \n",
              "\n",
              "  end_station_id  start_lat  start_lng  end_lat  end_lng member_casual  \n",
              "0          152.0    41.8964   -87.6610  41.9322 -87.6586        member  \n",
              "1          499.0    41.9244   -87.7154  41.9306 -87.7238        member  \n",
              "2          255.0    41.8945   -87.6179  41.8679 -87.6230        member  \n",
              "3          657.0    41.9030   -87.6975  41.8992 -87.6722        member  \n",
              "4          323.0    41.8902   -87.6262  41.9695 -87.6547        casual  "
            ],
            "text/html": [
              "\n",
              "  <div id=\"df-fee2b512-9bef-42fb-9a9f-599c48a973a5\" class=\"colab-df-container\">\n",
              "    <div>\n",
              "<style scoped>\n",
              "    .dataframe tbody tr th:only-of-type {\n",
              "        vertical-align: middle;\n",
              "    }\n",
              "\n",
              "    .dataframe tbody tr th {\n",
              "        vertical-align: top;\n",
              "    }\n",
              "\n",
              "    .dataframe thead th {\n",
              "        text-align: right;\n",
              "    }\n",
              "</style>\n",
              "<table border=\"1\" class=\"dataframe\">\n",
              "  <thead>\n",
              "    <tr style=\"text-align: right;\">\n",
              "      <th></th>\n",
              "      <th>ride_id</th>\n",
              "      <th>rideable_type</th>\n",
              "      <th>started_at</th>\n",
              "      <th>ended_at</th>\n",
              "      <th>start_station_name</th>\n",
              "      <th>start_station_id</th>\n",
              "      <th>end_station_name</th>\n",
              "      <th>end_station_id</th>\n",
              "      <th>start_lat</th>\n",
              "      <th>start_lng</th>\n",
              "      <th>end_lat</th>\n",
              "      <th>end_lng</th>\n",
              "      <th>member_casual</th>\n",
              "    </tr>\n",
              "  </thead>\n",
              "  <tbody>\n",
              "    <tr>\n",
              "      <th>0</th>\n",
              "      <td>A847FADBBC638E45</td>\n",
              "      <td>docked_bike</td>\n",
              "      <td>2020-04-26 17:45:14</td>\n",
              "      <td>2020-04-26 18:12:03</td>\n",
              "      <td>Eckhart Park</td>\n",
              "      <td>86</td>\n",
              "      <td>Lincoln Ave &amp; Diversey Pkwy</td>\n",
              "      <td>152.0</td>\n",
              "      <td>41.8964</td>\n",
              "      <td>-87.6610</td>\n",
              "      <td>41.9322</td>\n",
              "      <td>-87.6586</td>\n",
              "      <td>member</td>\n",
              "    </tr>\n",
              "    <tr>\n",
              "      <th>1</th>\n",
              "      <td>5405B80E996FF60D</td>\n",
              "      <td>docked_bike</td>\n",
              "      <td>2020-04-17 17:08:54</td>\n",
              "      <td>2020-04-17 17:17:03</td>\n",
              "      <td>Drake Ave &amp; Fullerton Ave</td>\n",
              "      <td>503</td>\n",
              "      <td>Kosciuszko Park</td>\n",
              "      <td>499.0</td>\n",
              "      <td>41.9244</td>\n",
              "      <td>-87.7154</td>\n",
              "      <td>41.9306</td>\n",
              "      <td>-87.7238</td>\n",
              "      <td>member</td>\n",
              "    </tr>\n",
              "    <tr>\n",
              "      <th>2</th>\n",
              "      <td>5DD24A79A4E006F4</td>\n",
              "      <td>docked_bike</td>\n",
              "      <td>2020-04-01 17:54:13</td>\n",
              "      <td>2020-04-01 18:08:36</td>\n",
              "      <td>McClurg Ct &amp; Erie St</td>\n",
              "      <td>142</td>\n",
              "      <td>Indiana Ave &amp; Roosevelt Rd</td>\n",
              "      <td>255.0</td>\n",
              "      <td>41.8945</td>\n",
              "      <td>-87.6179</td>\n",
              "      <td>41.8679</td>\n",
              "      <td>-87.6230</td>\n",
              "      <td>member</td>\n",
              "    </tr>\n",
              "    <tr>\n",
              "      <th>3</th>\n",
              "      <td>2A59BBDF5CDBA725</td>\n",
              "      <td>docked_bike</td>\n",
              "      <td>2020-04-07 12:50:19</td>\n",
              "      <td>2020-04-07 13:02:31</td>\n",
              "      <td>California Ave &amp; Division St</td>\n",
              "      <td>216</td>\n",
              "      <td>Wood St &amp; Augusta Blvd</td>\n",
              "      <td>657.0</td>\n",
              "      <td>41.9030</td>\n",
              "      <td>-87.6975</td>\n",
              "      <td>41.8992</td>\n",
              "      <td>-87.6722</td>\n",
              "      <td>member</td>\n",
              "    </tr>\n",
              "    <tr>\n",
              "      <th>4</th>\n",
              "      <td>27AD306C119C6158</td>\n",
              "      <td>docked_bike</td>\n",
              "      <td>2020-04-18 10:22:59</td>\n",
              "      <td>2020-04-18 11:15:54</td>\n",
              "      <td>Rush St &amp; Hubbard St</td>\n",
              "      <td>125</td>\n",
              "      <td>Sheridan Rd &amp; Lawrence Ave</td>\n",
              "      <td>323.0</td>\n",
              "      <td>41.8902</td>\n",
              "      <td>-87.6262</td>\n",
              "      <td>41.9695</td>\n",
              "      <td>-87.6547</td>\n",
              "      <td>casual</td>\n",
              "    </tr>\n",
              "  </tbody>\n",
              "</table>\n",
              "</div>\n",
              "    <div class=\"colab-df-buttons\">\n",
              "\n",
              "  <div class=\"colab-df-container\">\n",
              "    <button class=\"colab-df-convert\" onclick=\"convertToInteractive('df-fee2b512-9bef-42fb-9a9f-599c48a973a5')\"\n",
              "            title=\"Convert this dataframe to an interactive table.\"\n",
              "            style=\"display:none;\">\n",
              "\n",
              "  <svg xmlns=\"http://www.w3.org/2000/svg\" height=\"24px\" viewBox=\"0 -960 960 960\">\n",
              "    <path d=\"M120-120v-720h720v720H120Zm60-500h600v-160H180v160Zm220 220h160v-160H400v160Zm0 220h160v-160H400v160ZM180-400h160v-160H180v160Zm440 0h160v-160H620v160ZM180-180h160v-160H180v160Zm440 0h160v-160H620v160Z\"/>\n",
              "  </svg>\n",
              "    </button>\n",
              "\n",
              "  <style>\n",
              "    .colab-df-container {\n",
              "      display:flex;\n",
              "      gap: 12px;\n",
              "    }\n",
              "\n",
              "    .colab-df-convert {\n",
              "      background-color: #E8F0FE;\n",
              "      border: none;\n",
              "      border-radius: 50%;\n",
              "      cursor: pointer;\n",
              "      display: none;\n",
              "      fill: #1967D2;\n",
              "      height: 32px;\n",
              "      padding: 0 0 0 0;\n",
              "      width: 32px;\n",
              "    }\n",
              "\n",
              "    .colab-df-convert:hover {\n",
              "      background-color: #E2EBFA;\n",
              "      box-shadow: 0px 1px 2px rgba(60, 64, 67, 0.3), 0px 1px 3px 1px rgba(60, 64, 67, 0.15);\n",
              "      fill: #174EA6;\n",
              "    }\n",
              "\n",
              "    .colab-df-buttons div {\n",
              "      margin-bottom: 4px;\n",
              "    }\n",
              "\n",
              "    [theme=dark] .colab-df-convert {\n",
              "      background-color: #3B4455;\n",
              "      fill: #D2E3FC;\n",
              "    }\n",
              "\n",
              "    [theme=dark] .colab-df-convert:hover {\n",
              "      background-color: #434B5C;\n",
              "      box-shadow: 0px 1px 3px 1px rgba(0, 0, 0, 0.15);\n",
              "      filter: drop-shadow(0px 1px 2px rgba(0, 0, 0, 0.3));\n",
              "      fill: #FFFFFF;\n",
              "    }\n",
              "  </style>\n",
              "\n",
              "    <script>\n",
              "      const buttonEl =\n",
              "        document.querySelector('#df-fee2b512-9bef-42fb-9a9f-599c48a973a5 button.colab-df-convert');\n",
              "      buttonEl.style.display =\n",
              "        google.colab.kernel.accessAllowed ? 'block' : 'none';\n",
              "\n",
              "      async function convertToInteractive(key) {\n",
              "        const element = document.querySelector('#df-fee2b512-9bef-42fb-9a9f-599c48a973a5');\n",
              "        const dataTable =\n",
              "          await google.colab.kernel.invokeFunction('convertToInteractive',\n",
              "                                                    [key], {});\n",
              "        if (!dataTable) return;\n",
              "\n",
              "        const docLinkHtml = 'Like what you see? Visit the ' +\n",
              "          '<a target=\"_blank\" href=https://colab.research.google.com/notebooks/data_table.ipynb>data table notebook</a>'\n",
              "          + ' to learn more about interactive tables.';\n",
              "        element.innerHTML = '';\n",
              "        dataTable['output_type'] = 'display_data';\n",
              "        await google.colab.output.renderOutput(dataTable, element);\n",
              "        const docLink = document.createElement('div');\n",
              "        docLink.innerHTML = docLinkHtml;\n",
              "        element.appendChild(docLink);\n",
              "      }\n",
              "    </script>\n",
              "  </div>\n",
              "\n",
              "\n",
              "<div id=\"df-f498eb92-e6e0-4ce7-a183-3218d7a9992e\">\n",
              "  <button class=\"colab-df-quickchart\" onclick=\"quickchart('df-f498eb92-e6e0-4ce7-a183-3218d7a9992e')\"\n",
              "            title=\"Suggest charts\"\n",
              "            style=\"display:none;\">\n",
              "\n",
              "<svg xmlns=\"http://www.w3.org/2000/svg\" height=\"24px\"viewBox=\"0 0 24 24\"\n",
              "     width=\"24px\">\n",
              "    <g>\n",
              "        <path d=\"M19 3H5c-1.1 0-2 .9-2 2v14c0 1.1.9 2 2 2h14c1.1 0 2-.9 2-2V5c0-1.1-.9-2-2-2zM9 17H7v-7h2v7zm4 0h-2V7h2v10zm4 0h-2v-4h2v4z\"/>\n",
              "    </g>\n",
              "</svg>\n",
              "  </button>\n",
              "\n",
              "<style>\n",
              "  .colab-df-quickchart {\n",
              "      --bg-color: #E8F0FE;\n",
              "      --fill-color: #1967D2;\n",
              "      --hover-bg-color: #E2EBFA;\n",
              "      --hover-fill-color: #174EA6;\n",
              "      --disabled-fill-color: #AAA;\n",
              "      --disabled-bg-color: #DDD;\n",
              "  }\n",
              "\n",
              "  [theme=dark] .colab-df-quickchart {\n",
              "      --bg-color: #3B4455;\n",
              "      --fill-color: #D2E3FC;\n",
              "      --hover-bg-color: #434B5C;\n",
              "      --hover-fill-color: #FFFFFF;\n",
              "      --disabled-bg-color: #3B4455;\n",
              "      --disabled-fill-color: #666;\n",
              "  }\n",
              "\n",
              "  .colab-df-quickchart {\n",
              "    background-color: var(--bg-color);\n",
              "    border: none;\n",
              "    border-radius: 50%;\n",
              "    cursor: pointer;\n",
              "    display: none;\n",
              "    fill: var(--fill-color);\n",
              "    height: 32px;\n",
              "    padding: 0;\n",
              "    width: 32px;\n",
              "  }\n",
              "\n",
              "  .colab-df-quickchart:hover {\n",
              "    background-color: var(--hover-bg-color);\n",
              "    box-shadow: 0 1px 2px rgba(60, 64, 67, 0.3), 0 1px 3px 1px rgba(60, 64, 67, 0.15);\n",
              "    fill: var(--button-hover-fill-color);\n",
              "  }\n",
              "\n",
              "  .colab-df-quickchart-complete:disabled,\n",
              "  .colab-df-quickchart-complete:disabled:hover {\n",
              "    background-color: var(--disabled-bg-color);\n",
              "    fill: var(--disabled-fill-color);\n",
              "    box-shadow: none;\n",
              "  }\n",
              "\n",
              "  .colab-df-spinner {\n",
              "    border: 2px solid var(--fill-color);\n",
              "    border-color: transparent;\n",
              "    border-bottom-color: var(--fill-color);\n",
              "    animation:\n",
              "      spin 1s steps(1) infinite;\n",
              "  }\n",
              "\n",
              "  @keyframes spin {\n",
              "    0% {\n",
              "      border-color: transparent;\n",
              "      border-bottom-color: var(--fill-color);\n",
              "      border-left-color: var(--fill-color);\n",
              "    }\n",
              "    20% {\n",
              "      border-color: transparent;\n",
              "      border-left-color: var(--fill-color);\n",
              "      border-top-color: var(--fill-color);\n",
              "    }\n",
              "    30% {\n",
              "      border-color: transparent;\n",
              "      border-left-color: var(--fill-color);\n",
              "      border-top-color: var(--fill-color);\n",
              "      border-right-color: var(--fill-color);\n",
              "    }\n",
              "    40% {\n",
              "      border-color: transparent;\n",
              "      border-right-color: var(--fill-color);\n",
              "      border-top-color: var(--fill-color);\n",
              "    }\n",
              "    60% {\n",
              "      border-color: transparent;\n",
              "      border-right-color: var(--fill-color);\n",
              "    }\n",
              "    80% {\n",
              "      border-color: transparent;\n",
              "      border-right-color: var(--fill-color);\n",
              "      border-bottom-color: var(--fill-color);\n",
              "    }\n",
              "    90% {\n",
              "      border-color: transparent;\n",
              "      border-bottom-color: var(--fill-color);\n",
              "    }\n",
              "  }\n",
              "</style>\n",
              "\n",
              "  <script>\n",
              "    async function quickchart(key) {\n",
              "      const quickchartButtonEl =\n",
              "        document.querySelector('#' + key + ' button');\n",
              "      quickchartButtonEl.disabled = true;  // To prevent multiple clicks.\n",
              "      quickchartButtonEl.classList.add('colab-df-spinner');\n",
              "      try {\n",
              "        const charts = await google.colab.kernel.invokeFunction(\n",
              "            'suggestCharts', [key], {});\n",
              "      } catch (error) {\n",
              "        console.error('Error during call to suggestCharts:', error);\n",
              "      }\n",
              "      quickchartButtonEl.classList.remove('colab-df-spinner');\n",
              "      quickchartButtonEl.classList.add('colab-df-quickchart-complete');\n",
              "    }\n",
              "    (() => {\n",
              "      let quickchartButtonEl =\n",
              "        document.querySelector('#df-f498eb92-e6e0-4ce7-a183-3218d7a9992e button');\n",
              "      quickchartButtonEl.style.display =\n",
              "        google.colab.kernel.accessAllowed ? 'block' : 'none';\n",
              "    })();\n",
              "  </script>\n",
              "</div>\n",
              "    </div>\n",
              "  </div>\n"
            ],
            "application/vnd.google.colaboratory.intrinsic+json": {
              "type": "dataframe",
              "variable_name": "df"
            }
          },
          "metadata": {},
          "execution_count": 27
        }
      ]
    },
    {
      "cell_type": "code",
      "source": [
        "df.shape"
      ],
      "metadata": {
        "colab": {
          "base_uri": "https://localhost:8080/"
        },
        "id": "B-uIid3ItIrY",
        "outputId": "b46d5cc0-37fc-4996-c63b-2235431765b2"
      },
      "execution_count": 28,
      "outputs": [
        {
          "output_type": "execute_result",
          "data": {
            "text/plain": [
              "(3826978, 13)"
            ]
          },
          "metadata": {},
          "execution_count": 28
        }
      ]
    },
    {
      "cell_type": "code",
      "source": [
        "df.info()"
      ],
      "metadata": {
        "colab": {
          "base_uri": "https://localhost:8080/"
        },
        "id": "bQZIzV2PtPRS",
        "outputId": "5cc3dc61-51e2-4f7b-c01a-cbcffe663d38"
      },
      "execution_count": 29,
      "outputs": [
        {
          "output_type": "stream",
          "name": "stdout",
          "text": [
            "<class 'pandas.core.frame.DataFrame'>\n",
            "RangeIndex: 3826978 entries, 0 to 3826977\n",
            "Data columns (total 13 columns):\n",
            " #   Column              Dtype  \n",
            "---  ------              -----  \n",
            " 0   ride_id             object \n",
            " 1   rideable_type       object \n",
            " 2   started_at          object \n",
            " 3   ended_at            object \n",
            " 4   start_station_name  object \n",
            " 5   start_station_id    object \n",
            " 6   end_station_name    object \n",
            " 7   end_station_id      object \n",
            " 8   start_lat           float64\n",
            " 9   start_lng           float64\n",
            " 10  end_lat             float64\n",
            " 11  end_lng             float64\n",
            " 12  member_casual       object \n",
            "dtypes: float64(4), object(9)\n",
            "memory usage: 379.6+ MB\n"
          ]
        }
      ]
    },
    {
      "cell_type": "markdown",
      "source": [
        "## 2. Read the CSV file using Dask"
      ],
      "metadata": {
        "id": "EWyS1w02lYD0"
      }
    },
    {
      "cell_type": "code",
      "execution_count": 18,
      "metadata": {
        "colab": {
          "base_uri": "https://localhost:8080/"
        },
        "id": "u-x2hNpfQuPw",
        "outputId": "246aee54-5e79-4d01-f284-4cb1f904d81d"
      },
      "outputs": [
        {
          "output_type": "stream",
          "name": "stdout",
          "text": [
            "Time taken by Dask: 0.04 seconds\n"
          ]
        }
      ],
      "source": [
        "# Start time for Dask\n",
        "start_dask = time.time()\n",
        "\n",
        "# Read the CSV file using Dask\n",
        "ddf = dd.read_csv('/content/divvy-cyclist-04-20-to-04-21/Divvy_Cyclist.csv')\n",
        "\n",
        "# End time for Dask\n",
        "end_dask = time.time()\n",
        "time_dask = end_dask - start_dask\n",
        "print(\"Time taken by Dask:\", round(time_dask, 2), \"seconds\")"
      ]
    },
    {
      "cell_type": "markdown",
      "source": [
        "## 3. Read the CSV file using Modin"
      ],
      "metadata": {
        "id": "794Zez-clcDZ"
      }
    },
    {
      "cell_type": "code",
      "execution_count": 13,
      "metadata": {
        "colab": {
          "base_uri": "https://localhost:8080/"
        },
        "id": "3HYTttOrQuPv",
        "outputId": "d3bed679-cc2d-4621-e5f9-5226981b880c"
      },
      "outputs": [
        {
          "output_type": "stream",
          "name": "stderr",
          "text": [
            "2024-03-10 13:41:37,693\tINFO worker.py:1724 -- Started a local Ray instance.\n"
          ]
        },
        {
          "output_type": "stream",
          "name": "stdout",
          "text": [
            "Time taken by Modin: 39.48 seconds\n"
          ]
        }
      ],
      "source": [
        "# Start time for Modin\n",
        "start_modin = time.time()\n",
        "\n",
        "# Read the CSV file using Modin\n",
        "mdf = mpd.read_csv('/content/divvy-cyclist-04-20-to-04-21/Divvy_Cyclist.csv')\n",
        "\n",
        "# End time for Modin\n",
        "end_modin = time.time()\n",
        "time_modin = end_modin - start_modin\n",
        "print(\"Time taken by Modin:\", round(time_modin, 2), \"seconds\")"
      ]
    },
    {
      "cell_type": "markdown",
      "source": [
        "## 4. Read the CSV file using Ray"
      ],
      "metadata": {
        "id": "-sq6Zc_3lr70"
      }
    },
    {
      "cell_type": "code",
      "execution_count": 14,
      "metadata": {
        "colab": {
          "base_uri": "https://localhost:8080/"
        },
        "id": "BhzbElooQuPy",
        "outputId": "cfbdfa22-8aaf-4c2f-8c1b-c7fc2665eab8"
      },
      "outputs": [
        {
          "output_type": "stream",
          "name": "stderr",
          "text": [
            "2024-03-10 13:42:17,360\tINFO worker.py:1715 -- Started a local Ray instance. View the dashboard at \u001b[1m\u001b[32m127.0.0.1:8265 \u001b[39m\u001b[22m\n"
          ]
        },
        {
          "output_type": "stream",
          "name": "stdout",
          "text": [
            "Time taken by Ray: 6.52 seconds\n"
          ]
        }
      ],
      "source": [
        "# Start time for Ray\n",
        "ray.shutdown()\n",
        "ray.init()\n",
        "start_ray = time.time()\n",
        "\n",
        "# Read the CSV file using Ray\n",
        "df_ray = ray.data.read_csv('/content/divvy-cyclist-04-20-to-04-21/Divvy_Cyclist.csv')\n",
        "\n",
        "# End time for Ray\n",
        "end_ray = time.time()\n",
        "time_ray = end_ray - start_ray\n",
        "print(\"Time taken by Ray:\", round(time_ray, 2), \"seconds\")"
      ]
    },
    {
      "cell_type": "code",
      "execution_count": 16,
      "metadata": {
        "colab": {
          "base_uri": "https://localhost:8080/",
          "height": 472
        },
        "id": "woUMVid9QuP0",
        "outputId": "0c43ca07-d15c-4bf8-d6c2-b2df3cc01fe6"
      },
      "outputs": [
        {
          "output_type": "display_data",
          "data": {
            "text/plain": [
              "<Figure size 640x480 with 1 Axes>"
            ],
            "image/png": "[encoded data removed]"
          },
          "metadata": {}
        }
      ],
      "source": [
        "# Plotting\n",
        "labels = ['Pandas', 'Dask', 'Modin', 'Ray']\n",
        "times = [time_pandas, time_dask, time_modin, time_ray]\n",
        "\n",
        "plt.bar(labels, times, color=['blue', 'green', 'red', 'purple'])\n",
        "plt.xlabel('Library')\n",
        "plt.ylabel('Time (seconds)')\n",
        "plt.title('Time taken by different libraries for reading CSV file')\n",
        "plt.show()"
      ]
    },
    {
      "cell_type": "markdown",
      "source": [
        "There's a significant difference in the times taken by each method. Dask appears to be the fastest, followed by Ray, while Pandas and Modin are slower. Unlike the rest, Dask is designed to efficiently handle large datasets that don't fit into memory by dividing them into smaller partitions or chunks. It's particularly well-suited for parallel and distributed computing."
      ],
      "metadata": {
        "id": "TGzoJbOQoFQ1"
      }
    },
    {
      "cell_type": "markdown",
      "source": [
        "Another way to import datasets is with csv.DictReader. As we can see below, it is by far the fastest, but it imports everything as strings, while the other methods try to guess the data types of each column separately and possibly do multiple other validations upon import. So, using csv.DictReader will possibly lead to a number of transformations on it before analyzing the contents."
      ],
      "metadata": {
        "id": "760fgvRKkm4X"
      }
    },
    {
      "cell_type": "code",
      "source": [
        "start_dictreader = time.time()\n",
        "drd = csv.DictReader(open('/content/divvy-cyclist-04-20-to-04-21/Divvy_Cyclist.csv'))\n",
        "\n",
        "# End time for DictReader\n",
        "end_dictreader = time.time()\n",
        "time_dictreader = end_dictreader - start_dictreader\n",
        "print(\"Time taken by Dictreader:\", round(time_dictreader, 2), \"seconds\")"
      ],
      "metadata": {
        "colab": {
          "base_uri": "https://localhost:8080/"
        },
        "id": "bwmRIt8-iUfh",
        "outputId": "59219f00-f944-456d-fb8f-3d2a611e0678"
      },
      "execution_count": 51,
      "outputs": [
        {
          "output_type": "stream",
          "name": "stdout",
          "text": [
            "Time taken by Dictreader: 0.0 seconds\n"
          ]
        }
      ]
    },
    {
      "cell_type": "markdown",
      "source": [
        "## Write a utility.py file"
      ],
      "metadata": {
        "id": "VlZTro2T4f3F"
      }
    },
    {
      "cell_type": "code",
      "source": [
        "%%writefile utility.py\n",
        "import logging\n",
        "import os\n",
        "import subprocess\n",
        "import yaml\n",
        "import pandas as pd\n",
        "import datetime\n",
        "import gc\n",
        "import re\n",
        "\n",
        "def read_config_file(filepath):\n",
        "    with open(filepath, 'r') as stream:\n",
        "        try:\n",
        "            return yaml.safe_load(stream)\n",
        "        except yaml.YAMLError as exc:\n",
        "            logging.error(exc)\n",
        "\n",
        "\n",
        "def replacer(string, char):\n",
        "    pattern = char + '{2,}'\n",
        "    string = re.sub(pattern, char, string)\n",
        "    return string\n",
        "\n",
        "def col_header_val(df,table_config):\n",
        "    '''\n",
        "    replace whitespaces in the column\n",
        "    and standardized column names\n",
        "    '''\n",
        "    df.columns = df.columns.str.lower()\n",
        "    df.columns = df.columns.str.replace('[^\\w]','_',regex=True)\n",
        "    df.columns = list(map(lambda x: x.strip('_'), list(df.columns)))\n",
        "    df.columns = list(map(lambda x: replacer(x,'_'), list(df.columns)))\n",
        "    expected_col = list(map(lambda x: x.lower(),  table_config['columns']))\n",
        "    expected_col.sort()\n",
        "    df.columns =list(map(lambda x: x.lower(), list(df.columns)))\n",
        "    df = df.reindex(sorted(df.columns), axis=1)\n",
        "    if len(df.columns) == len(expected_col) and list(expected_col)  == list(df.columns):\n",
        "        print(\"column name and column length validation passed\")\n",
        "        return 1\n",
        "    else:\n",
        "        print(\"column name and column length validation failed\")\n",
        "        mismatched_columns_file = list(set(df.columns).difference(expected_col))\n",
        "        print(\"Following File columns are not in the YAML file\",mismatched_columns_file)\n",
        "        missing_YAML_file = list(set(expected_col).difference(df.columns))\n",
        "        print(\"Following YAML columns are not in the file uploaded\",missing_YAML_file)\n",
        "        logging.info(f'df columns: {df.columns}')\n",
        "        logging.info(f'expected columns: {expected_col}')\n",
        "        return 0"
      ],
      "metadata": {
        "colab": {
          "base_uri": "https://localhost:8080/"
        },
        "id": "Yf_HxZ_mw3k3",
        "outputId": "1666b4bf-6bb8-4ccb-c725-ca8af7e21215"
      },
      "execution_count": 52,
      "outputs": [
        {
          "output_type": "stream",
          "name": "stdout",
          "text": [
            "Writing utility.py\n"
          ]
        }
      ]
    },
    {
      "cell_type": "markdown",
      "source": [
        "## Write a YAML file"
      ],
      "metadata": {
        "id": "nZlr-AKi4RXc"
      }
    },
    {
      "cell_type": "code",
      "source": [
        "%%writefile file.yaml\n",
        "file_type: csv\n",
        "dataset_name: Divvy_Cyclist\n",
        "file_name: testfile\n",
        "inbound_delimiter: \",\"\n",
        "outbound_delimiter: \"|\"\n",
        "skip_leading_rows: 1\n",
        "columns:\n",
        "    - ride_id\n",
        "    - rideable_type\n",
        "    - started_at\n",
        "    - ended_at\n",
        "    - start_station_name\n",
        "    - start_station_id\n",
        "    - end_station_name\n",
        "    - end_station_id\n",
        "    - start_lat\n",
        "    - start_lng\n",
        "    - end_lat\n",
        "    - end_lng\n",
        "    - member_casual"
      ],
      "metadata": {
        "colab": {
          "base_uri": "https://localhost:8080/"
        },
        "id": "U8uN7DP1u1PD",
        "outputId": "fd113c2b-edd0-49f7-c7fa-6bb5834019dc"
      },
      "execution_count": 53,
      "outputs": [
        {
          "output_type": "stream",
          "name": "stdout",
          "text": [
            "Writing file.yaml\n"
          ]
        }
      ]
    },
    {
      "cell_type": "code",
      "source": [
        "# Read config file\n",
        "import utility as util\n",
        "config_data = util.read_config_file(\"file.yaml\")"
      ],
      "metadata": {
        "id": "C5y-FOj-zF1y"
      },
      "execution_count": 63,
      "outputs": []
    },
    {
      "cell_type": "code",
      "source": [
        "config_data['inbound_delimiter']"
      ],
      "metadata": {
        "colab": {
          "base_uri": "https://localhost:8080/",
          "height": 35
        },
        "id": "zM3JiUoGzPzE",
        "outputId": "f541971b-9b89-4b76-818c-e1fd4df2d834"
      },
      "execution_count": 55,
      "outputs": [
        {
          "output_type": "execute_result",
          "data": {
            "text/plain": [
              "','"
            ],
            "application/vnd.google.colaboratory.intrinsic+json": {
              "type": "string"
            }
          },
          "metadata": {},
          "execution_count": 55
        }
      ]
    },
    {
      "cell_type": "code",
      "source": [
        "# Inspect data of config file\n",
        "config_data"
      ],
      "metadata": {
        "colab": {
          "base_uri": "https://localhost:8080/"
        },
        "id": "BVAr9BDkzTUy",
        "outputId": "9e766ff3-d20d-44f7-bd86-f169e511d3d7"
      },
      "execution_count": 56,
      "outputs": [
        {
          "output_type": "execute_result",
          "data": {
            "text/plain": [
              "{'file_type': 'csv',\n",
              " 'dataset_name': 'Divvy_Cyclist',\n",
              " 'file_name': 'testfile',\n",
              " 'inbound_delimiter': ',',\n",
              " 'outbound_delimiter': '|',\n",
              " 'skip_leading_rows': 1,\n",
              " 'columns': ['ride_id',\n",
              "  'rideable_type',\n",
              "  'started_at',\n",
              "  'ended_at',\n",
              "  'start_station_name',\n",
              "  'start_station_id',\n",
              "  'end_station_name',\n",
              "  'end_station_id',\n",
              "  'start_lat',\n",
              "  'start_lng',\n",
              "  'end_lat',\n",
              "  'end_lng',\n",
              "  'member_casual']}"
            ]
          },
          "metadata": {},
          "execution_count": 56
        }
      ]
    },
    {
      "cell_type": "code",
      "source": [
        "# Read the file using config file\n",
        "file_type = config_data['file_type']\n",
        "source_file = \"C:/Users/Amir/Desktop/\" + config_data['file_name'] + f'.{file_type}'"
      ],
      "metadata": {
        "id": "rl5oNZX91jek"
      },
      "execution_count": 57,
      "outputs": []
    },
    {
      "cell_type": "markdown",
      "source": [
        "## Validate number of columns and column names with YAML"
      ],
      "metadata": {
        "id": "A_NmVV_T4E0q"
      }
    },
    {
      "cell_type": "code",
      "source": [
        "# Validate the header of the file\n",
        "util.col_header_val(df,config_data)"
      ],
      "metadata": {
        "colab": {
          "base_uri": "https://localhost:8080/"
        },
        "id": "RvxpxR2M1lHj",
        "outputId": "2d3433a6-fb03-4d03-d1f3-1a12793ee30e"
      },
      "execution_count": 58,
      "outputs": [
        {
          "output_type": "stream",
          "name": "stdout",
          "text": [
            "column name and column length validation passed\n"
          ]
        },
        {
          "output_type": "execute_result",
          "data": {
            "text/plain": [
              "1"
            ]
          },
          "metadata": {},
          "execution_count": 58
        }
      ]
    },
    {
      "cell_type": "code",
      "source": [
        "print(\"columns of files are:\" ,df.columns)\n",
        "print(\"columns of YAML are:\" ,config_data['columns'])"
      ],
      "metadata": {
        "colab": {
          "base_uri": "https://localhost:8080/"
        },
        "id": "8QQV8xj61wqs",
        "outputId": "7346f316-ceb2-4739-a745-de237b710e09"
      },
      "execution_count": 59,
      "outputs": [
        {
          "output_type": "stream",
          "name": "stdout",
          "text": [
            "columns of files are: Index(['ride_id', 'rideable_type', 'started_at', 'ended_at',\n",
            "       'start_station_name', 'start_station_id', 'end_station_name',\n",
            "       'end_station_id', 'start_lat', 'start_lng', 'end_lat', 'end_lng',\n",
            "       'member_casual'],\n",
            "      dtype='object')\n",
            "columns of YAML are: ['ride_id', 'rideable_type', 'started_at', 'ended_at', 'start_station_name', 'start_station_id', 'end_station_name', 'end_station_id', 'start_lat', 'start_lng', 'end_lat', 'end_lng', 'member_casual']\n"
          ]
        }
      ]
    },
    {
      "cell_type": "code",
      "source": [
        "if util.col_header_val(df,config_data)==0:\n",
        "    print(\"validation failed\")\n",
        "else:\n",
        "    print(\"col validation passed\")"
      ],
      "metadata": {
        "colab": {
          "base_uri": "https://localhost:8080/"
        },
        "id": "PGTQOdaK11ny",
        "outputId": "a8c77438-b6c5-42d3-88d3-2c9db1c3b579"
      },
      "execution_count": 60,
      "outputs": [
        {
          "output_type": "stream",
          "name": "stdout",
          "text": [
            "column name and column length validation passed\n",
            "col validation passed\n"
          ]
        }
      ]
    },
    {
      "cell_type": "markdown",
      "source": [
        "## Write the file in pipe separated text file (|) in gz format"
      ],
      "metadata": {
        "id": "OSgYPST72ipc"
      }
    },
    {
      "cell_type": "code",
      "source": [
        "# Write dataframe to pipe-separated text file in gz format\n",
        "df.to_csv('output_file.txt.gz', sep='|', index=False, compression='gzip')"
      ],
      "metadata": {
        "id": "wxt5faJL2WFE"
      },
      "execution_count": 61,
      "outputs": []
    },
    {
      "cell_type": "markdown",
      "source": [
        "## Create a summary of the file"
      ],
      "metadata": {
        "id": "RFg8dT7F2kTG"
      }
    },
    {
      "cell_type": "code",
      "source": [
        "# Get file size\n",
        "file_size = os.path.getsize('output_file.txt.gz')\n",
        "\n",
        "# Summary\n",
        "print(\"Summary\")\n",
        "print(\"----------------------------\")\n",
        "print(\"Total number of rows:\", len(df))\n",
        "print(\"Total number of columns:\", len(df.columns))\n",
        "print(\"File size:\", file_size, \"bytes\")"
      ],
      "metadata": {
        "colab": {
          "base_uri": "https://localhost:8080/"
        },
        "id": "M_C7Pb0f2otf",
        "outputId": "b72d002a-e85b-402d-aa41-64769ab46e87"
      },
      "execution_count": 62,
      "outputs": [
        {
          "output_type": "stream",
          "name": "stdout",
          "text": [
            "Summary\n",
            "----------------------------\n",
            "Total number of rows: 3826978\n",
            "Total number of columns: 13\n",
            "File size: 159030475 bytes\n"
          ]
        }
      ]
    }
  ],
  "metadata": {
    "kernelspec": {
      "display_name": "base",
      "language": "python",
      "name": "python3"
    },
    "language_info": {
      "codemirror_mode": {
        "name": "ipython",
        "version": 3
      },
      "file_extension": ".py",
      "mimetype": "text/x-python",
      "name": "python",
      "nbconvert_exporter": "python",
      "pygments_lexer": "ipython3",
      "version": "3.9.18"
    },
    "colab": {
      "provenance": []
    }
  },
  "nbformat": 4,
  "nbformat_minor": 0
}